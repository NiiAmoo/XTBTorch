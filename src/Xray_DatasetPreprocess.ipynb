{
 "cells": [
  {
   "cell_type": "code",
   "execution_count": 1,
   "metadata": {},
   "outputs": [],
   "source": [
    "import torch\n",
    "from torch.utils.data.dataset import Dataset\n",
    "import os, sys, random\n",
    "import numpy as np\n",
    "import torchvision\n",
    "from torchvision import transforms\n",
    "import PIL\n",
    "from PIL import Image"
   ]
  },
  {
   "cell_type": "code",
   "execution_count": 2,
   "metadata": {},
   "outputs": [],
   "source": [
    "def get_lbl_from_name(fname):\n",
    "    lbl = int(fname.split('.png')[0][-1])\n",
    "    return lbl"
   ]
  },
  {
   "cell_type": "code",
   "execution_count": 3,
   "metadata": {},
   "outputs": [
    {
     "name": "stdout",
     "output_type": "stream",
     "text": [
      "num files :  800\n",
      "num of pos files :  394\n",
      "num of neg files :  406\n",
      "num files to be used for testing :  120\n",
      "num  pos files to be used for testing :  60\n",
      "num  neg files to be used for testing :  60\n"
     ]
    }
   ],
   "source": [
    "file_root1 = '../data/raw/'\n",
    "files = os.listdir(file_root1)\n",
    "files.sort()\n",
    "files_1 = [f for f in files if '.png' in f]\n",
    "print('num files : ', len(files_1))\n",
    "# print(files_1)\n",
    "\n",
    "files_1_pos = [f for f in files_1 if get_lbl_from_name(f)==1]\n",
    "print('num of pos files : ', len(files_1_pos))\n",
    "\n",
    "files_1_neg = [f for f in files_1 if get_lbl_from_name(f)==0]\n",
    "print('num of neg files : ', len(files_1_neg))\n",
    "\n",
    "n_test = int(len(files_1)*0.15)\n",
    "print('num files to be used for testing : ', n_test)\n",
    "print('num  pos files to be used for testing : ', n_test//2)\n",
    "print('num  neg files to be used for testing : ', n_test//2)"
   ]
  },
  {
   "cell_type": "code",
   "execution_count": 4,
   "metadata": {},
   "outputs": [
    {
     "name": "stdout",
     "output_type": "stream",
     "text": [
      "num of files used for testing :  120\n"
     ]
    }
   ],
   "source": [
    "# 85% of data to be used as training, randomly choose 15% for testing\n",
    "test_files_pos = random.sample(files_1_pos, n_test//2)\n",
    "test_files_neg = random.sample(files_1_neg, n_test//2)\n",
    "test_files = test_files_neg+test_files_pos\n",
    "print('num of files used for testing : ', len(test_files))\n",
    "# print(test_files)"
   ]
  },
  {
   "cell_type": "code",
   "execution_count": 6,
   "metadata": {},
   "outputs": [
    {
     "name": "stdout",
     "output_type": "stream",
     "text": [
      "num pos files for training :  334\n",
      "num neg files for training :  346\n",
      "num files for training :  680\n"
     ]
    }
   ],
   "source": [
    "train_files_pos = [f for f in files_1_pos if f not in test_files_pos]\n",
    "print('num pos files for training : ', len(train_files_pos))\n",
    "\n",
    "train_files_neg = [f for f in files_1_neg if f not in test_files_neg]\n",
    "print('num neg files for training : ', len(train_files_neg))\n",
    "\n",
    "train_files = train_files_neg + train_files_pos\n",
    "print('num files for training : ', len(train_files))"
   ]
  },
  {
   "cell_type": "code",
   "execution_count": 7,
   "metadata": {},
   "outputs": [],
   "source": [
    "# transforms for data aug mentation\n",
    "IMG_W, IMG_H = 128, 128\n",
    "\n",
    "tfm0 = transforms.Compose([\n",
    "    transforms.Grayscale(num_output_channels=1),\n",
    "    transforms.Resize((IMG_W, IMG_H))\n",
    "])\n",
    "\n",
    "aug_tfm = transforms.Compose([\n",
    "    transforms.RandomAffine(\n",
    "        degrees=8,\n",
    "        translate=(0.1, 0.1),\n",
    "        resample=Image.BICUBIC,\n",
    "    ),\n",
    "    transforms.Grayscale(num_output_channels=1),\n",
    "    transforms.RandomHorizontalFlip(p=0.5),\n",
    "    transforms.Resize((IMG_W, IMG_H))\n",
    "])"
   ]
  },
  {
   "cell_type": "code",
   "execution_count": 10,
   "metadata": {},
   "outputs": [],
   "source": [
    "# shifting files to_process\n",
    "# train files\n",
    "n_aug_per_file = 3\n",
    "for f in train_files_pos:\n",
    "#     fname = f.split('.png')[0]\n",
    "    I0 = Image.open('../data/raw/'+f)\n",
    "    I = tfm0(I0)\n",
    "    I.save('../data/to_process/train_aug/pos/'+'aug0_'+f)\n",
    "    for i in range(1, 1+n_aug_per_file):\n",
    "        I = aug_tfm(I0)\n",
    "        aug = 'aug{}_'.format(i)\n",
    "        I.save('../data/to_process/train_aug/pos/'+aug+f)\n",
    "        \n",
    "        \n",
    "for f in train_files_neg:\n",
    "#     fname = f.split('.png')[0]\n",
    "    I0 = Image.open('../data/raw/'+f)\n",
    "    I = tfm0(I0)\n",
    "    I.save('../data/to_process/train_aug/neg/'+'aug0_'+f)\n",
    "    for i in range(1, 1+n_aug_per_file):\n",
    "        I = aug_tfm(I0)\n",
    "        aug = 'aug{}_'.format(i)\n",
    "        I.save('../data/to_process/train_aug/neg/'+aug+f)"
   ]
  },
  {
   "cell_type": "code",
   "execution_count": 11,
   "metadata": {},
   "outputs": [],
   "source": [
    "# shifting files to_process\n",
    "# test files\n",
    "for f in test_files:\n",
    "    I0 = Image.open('../data/raw/'+f)\n",
    "    I = tfm0(I0)\n",
    "    I.save('../data/to_process/test_no_aug/'+'aug0_'+f)"
   ]
  },
  {
   "cell_type": "code",
   "execution_count": 16,
   "metadata": {},
   "outputs": [],
   "source": [
    "# moving files for training"
   ]
  },
  {
   "cell_type": "code",
   "execution_count": 12,
   "metadata": {},
   "outputs": [],
   "source": [
    "import shutil"
   ]
  },
  {
   "cell_type": "code",
   "execution_count": 15,
   "metadata": {},
   "outputs": [],
   "source": [
    "t1 = os.listdir('../data/to_process/train_aug/pos/')\n",
    "t2 = random.sample(t1, 1000)\n",
    "for f in t2:\n",
    "    shutil.copy2(src='../data/to_process/train_aug/pos/'+f, dst='../data/train/'+f)\n",
    "\n",
    "t1 = os.listdir('../data/to_process/train_aug/neg/')\n",
    "t2 = random.sample(t1, 1000)\n",
    "for f in t2:\n",
    "    shutil.copy2(src='../data/to_process/train_aug/neg/'+f, dst='../data/train/'+f)"
   ]
  },
  {
   "cell_type": "code",
   "execution_count": 17,
   "metadata": {},
   "outputs": [],
   "source": [
    "# test_no_aug copy as it is to test\n",
    "\n",
    "# finally use train/ and test/"
   ]
  }
 ],
 "metadata": {
  "kernelspec": {
   "display_name": "Python 3",
   "language": "python",
   "name": "python3"
  },
  "language_info": {
   "codemirror_mode": {
    "name": "ipython",
    "version": 3
   },
   "file_extension": ".py",
   "mimetype": "text/x-python",
   "name": "python",
   "nbconvert_exporter": "python",
   "pygments_lexer": "ipython3",
   "version": "3.6.7"
  }
 },
 "nbformat": 4,
 "nbformat_minor": 2
}
