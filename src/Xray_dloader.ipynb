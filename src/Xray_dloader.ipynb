{
 "cells": [
  {
   "cell_type": "code",
   "execution_count": 1,
   "metadata": {},
   "outputs": [],
   "source": [
    "import torch\n",
    "import torchvision\n",
    "from torchvision import transforms\n",
    "from torch.utils.data.dataset import Dataset\n",
    "import os, sys, random\n",
    "import numpy as np\n",
    "import PIL\n",
    "from PIL import Image"
   ]
  },
  {
   "cell_type": "code",
   "execution_count": 2,
   "metadata": {},
   "outputs": [],
   "source": [
    "def get_lbl_from_name(fname):\n",
    "    lbl = int(fname.split('.png')[0][-1])\n",
    "    return lbl"
   ]
  },
  {
   "cell_type": "code",
   "execution_count": 3,
   "metadata": {},
   "outputs": [],
   "source": [
    "class XrayDset(Dataset):\n",
    "    def __init__(self, root_dir, tfm=transforms.ToTensor()):\n",
    "        self.root_dir = root_dir\n",
    "        self.fnames = os.listdir(root_dir)\n",
    "        self.labels = [get_lbl_from_name(f) for f in self.fnames]\n",
    "        self.tfm = tfm\n",
    "        \n",
    "    def __getitem__(self, index):\n",
    "        I0 = Image.open(self.root_dir+self.fnames[index])\n",
    "        I = self.tfm(I0)\n",
    "        return I, self.labels[index]\n",
    "    \n",
    "    def __len__(self):\n",
    "        return len(self.fnames)"
   ]
  },
  {
   "cell_type": "code",
   "execution_count": 4,
   "metadata": {},
   "outputs": [],
   "source": [
    "load_tfm = transforms.Compose([\n",
    "    transforms.ToTensor(),\n",
    "    lambda x : (x-x.min())/(x.max()-x.min())\n",
    "])"
   ]
  },
  {
   "cell_type": "code",
   "execution_count": 5,
   "metadata": {},
   "outputs": [],
   "source": [
    "D = XrayDset('../data/train/', load_tfm)\n",
    "D_loader = torch.utils.data.DataLoader(dataset=D, batch_size=10, shuffle=False)"
   ]
  },
  {
   "cell_type": "code",
   "execution_count": 6,
   "metadata": {},
   "outputs": [
    {
     "name": "stdout",
     "output_type": "stream",
     "text": [
      "torch.Size([10, 1, 128, 128]) torch.Size([10])\n"
     ]
    }
   ],
   "source": [
    "for i, d in enumerate(D_loader):\n",
    "    print(d[0].shape, d[1].shape)\n",
    "    break"
   ]
  }
 ],
 "metadata": {
  "kernelspec": {
   "display_name": "Python 3",
   "language": "python",
   "name": "python3"
  },
  "language_info": {
   "codemirror_mode": {
    "name": "ipython",
    "version": 3
   },
   "file_extension": ".py",
   "mimetype": "text/x-python",
   "name": "python",
   "nbconvert_exporter": "python",
   "pygments_lexer": "ipython3",
   "version": "3.6.7"
  }
 },
 "nbformat": 4,
 "nbformat_minor": 2
}
